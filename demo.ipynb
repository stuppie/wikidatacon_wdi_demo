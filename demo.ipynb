{
 "cells": [
  {
   "cell_type": "markdown",
   "metadata": {},
   "source": [
    "## Bot: Add GenBank Assembly accessions\n",
    "#### As an example, we will create a bot to add GenBank Assembly accessions to bacterial organisms in wikidata\n",
    "\n",
    "An assembly is a specific sample from a biological organism that was sequenced and analyzed. Often, well-studied single organisms or strains can be sequenced multiple times and the data deposited into repositories. In this bot, we'll add the assembly information onto bacterial strains that have been sequenced only once. This data is used by wikigenomes.org in annotating bacterial genomes.\n"
   ]
  },
  {
   "cell_type": "markdown",
   "metadata": {},
   "source": [
    "See: https://www.wikidata.org/wiki/Q21079489#P4333"
   ]
  },
  {
   "cell_type": "code",
   "execution_count": 1,
   "metadata": {},
   "outputs": [],
   "source": [
    "# make the cells wider\n",
    "from IPython.core.display import display, HTML\n",
    "display(HTML(\"<style>.container { width:80% !important; }</style>\"))"
   ]
  },
  {
   "cell_type": "markdown",
   "metadata": {},
   "source": [
    "### Data Source\n",
    "Genbank is a repository for genomic information. They provide a flat file with information about organisms [here](ftp://ftp.ncbi.nlm.nih.gov/genomes/GENOME_REPORTS/prokaryotes.txt)"
   ]
  },
  {
   "cell_type": "code",
   "execution_count": 2,
   "metadata": {},
   "outputs": [],
   "source": [
    "# Download data\n",
    "!wget -nc ftp://ftp.ncbi.nlm.nih.gov/genomes/GENOME_REPORTS/prokaryotes.txt"
   ]
  },
  {
   "cell_type": "code",
   "execution_count": 3,
   "metadata": {},
   "outputs": [],
   "source": [
    "from time import strftime, gmtime\n",
    "from tqdm import tqdm\n",
    "import pandas as pd\n",
    "from datetime import datetime\n",
    "from wikidataintegrator import wdi_core, wdi_login, wdi_helpers, wdi_property_store\n",
    "\n",
    "# create a file called local.py with your credentials\n",
    "from local import WDUSER, WDPASS"
   ]
  },
  {
   "cell_type": "code",
   "execution_count": 4,
   "metadata": {},
   "outputs": [],
   "source": [
    "PROPS = {\n",
    "    'NCBI Taxonomy ID': 'P685',\n",
    "    'GenBank Assembly accession': 'P4333',\n",
    "    'stated in': 'P248',\n",
    "    'retrieved': 'P813',\n",
    "    'reference URL': 'P854'\n",
    "}\n",
    "\n",
    "ITEMS = {\n",
    "    'GenBank': 'Q901755'\n",
    "}"
   ]
  },
  {
   "cell_type": "markdown",
   "metadata": {},
   "source": [
    "### load and pre-process data"
   ]
  },
  {
   "cell_type": "code",
   "execution_count": 5,
   "metadata": {},
   "outputs": [],
   "source": [
    "# load in csv\n",
    "df = pd.read_csv(\"prokaryotes.txt\", sep='\\t', low_memory=False)\n",
    "# filter for complete genomes only\n",
    "df = df.query(\"Status == 'Complete Genome'\")\n",
    "# create a dict where the key is the taxID, value is the list of accessions for that taxID\n",
    "d = df.groupby(\"TaxID\").agg({'Assembly Accession': lambda x: list(x)}).to_dict()['Assembly Accession']\n",
    "# filter out the ones where there is more than one accession\n",
    "d = {k: v[0] for k, v in d.items() if len(v) == 1}"
   ]
  },
  {
   "cell_type": "code",
   "execution_count": 6,
   "metadata": {},
   "outputs": [
    {
     "name": "stdout",
     "output_type": "stream",
     "text": [
      "[(679936, 'GCA_000237975.1'), (385025, 'GCA_000299965.1'), (1146883, 'GCA_000284015.1'), (1366, 'GCA_002310475.1'), (712710, 'GCA_001717525.1'), (1335303, 'GCA_000464955.2'), (9, 'GCA_900128725.1'), (172042, 'GCA_002355935.1'), (1335307, 'GCA_000439695.1'), (196620, 'GCA_000011265.1')]\n"
     ]
    }
   ],
   "source": [
    "# preview 10 items. key is taxid, value is genbank assembly\n",
    "print(list(d.items())[:10])"
   ]
  },
  {
   "cell_type": "code",
   "execution_count": 7,
   "metadata": {},
   "outputs": [
    {
     "data": {
      "text/plain": [
       "4958"
      ]
     },
     "execution_count": 7,
     "metadata": {},
     "output_type": "execute_result"
    }
   ],
   "source": [
    "# ~ 5k items to do\n",
    "len(d)"
   ]
  },
  {
   "cell_type": "markdown",
   "metadata": {},
   "source": [
    "### Core properties\n",
    "WDI allows you to define core properties which should have unique values across all of Wikidata. WDI will automatically check that these are unique and throw exceptions on failure. These core props are also used to retrieve items if the QID is not known.\n",
    "\n",
    "#### You can add to the core properties by defining another, as below"
   ]
  },
  {
   "cell_type": "code",
   "execution_count": 8,
   "metadata": {},
   "outputs": [],
   "source": [
    "wdi_property_store.wd_properties['P4333'] = {\n",
    "    'core_id': True\n",
    "}"
   ]
  },
  {
   "cell_type": "markdown",
   "metadata": {},
   "source": [
    "### Login"
   ]
  },
  {
   "cell_type": "code",
   "execution_count": 9,
   "metadata": {},
   "outputs": [
    {
     "name": "stdout",
     "output_type": "stream",
     "text": [
      "Successfully logged in as Gstupp\n"
     ]
    }
   ],
   "source": [
    "# you can login very easily!\n",
    "login = wdi_login.WDLogin(WDUSER, WDPASS)"
   ]
  },
  {
   "cell_type": "markdown",
   "metadata": {},
   "source": [
    "### Create References"
   ]
  },
  {
   "cell_type": "code",
   "execution_count": 10,
   "metadata": {},
   "outputs": [],
   "source": [
    "# We can define a helper function to create the reference statements\n",
    "def create_reference(genbank_id):\n",
    "    stated_in = wdi_core.WDItemID(ITEMS['GenBank'], PROPS['stated in'], is_reference=True)\n",
    "    retrieved = wdi_core.WDTime(strftime(\"+%Y-%m-%dT00:00:00Z\", gmtime()), PROPS['retrieved'], is_reference=True)\n",
    "    url = \"https://www.ncbi.nlm.nih.gov/genome/?term={}\".format(genbank_id)\n",
    "    ref_url = wdi_core.WDUrl(url, PROPS['reference URL'], is_reference=True)\n",
    "    return [stated_in, retrieved, ref_url]"
   ]
  },
  {
   "cell_type": "markdown",
   "metadata": {},
   "source": [
    "### The Meat of the Bot"
   ]
  },
  {
   "cell_type": "code",
   "execution_count": 11,
   "metadata": {},
   "outputs": [],
   "source": [
    "def run_one(taxid, genbank_id):\n",
    "    # create a statement for the ncbi tax id\n",
    "    ncbi_statement = wdi_core.WDExternalID(str(taxid), PROPS['NCBI Taxonomy ID'])\n",
    "    # we are going to retrieve the item to be modified based on the NCBI Taxonomy ID, which should already exist on all organisms.\n",
    "    try:\n",
    "        item = wdi_core.WDItemEngine(data=[ncbi_statement], domain=\"organism\", search_only=True, item_name=\"organism\")\n",
    "    except wdi_core.ManualInterventionReqException as e:\n",
    "        # if there are more than one items with this ncbi tax id, this will throw an error!\n",
    "        # instead, catch it and log the error\n",
    "        msg = wdi_helpers.format_msg(genbank_id, PROPS['GenBank Assembly accession'], \"\", str(e), type(e))\n",
    "        wdi_core.WDItemEngine.log(\"ERROR\", msg)\n",
    "        return\n",
    "    \n",
    "    if item.wd_item_id:\n",
    "        # if the item exists, create the genbank statement\n",
    "        reference = create_reference(genbank_id)\n",
    "        genbank_statement = wdi_core.WDExternalID(genbank_id, PROPS['GenBank Assembly accession'], references=[reference])\n",
    "        # create the item object, specifying the qid\n",
    "        item = wdi_core.WDItemEngine(data=[genbank_statement], wd_item_id=item.wd_item_id)\n",
    "        # use this helper method to perform the write. It automatically writes to a log file and captures errors\n",
    "        # wdi also has an automatic backoff and retry functionality\n",
    "        wdi_helpers.try_write(item, record_id=genbank_id, record_prop=PROPS['GenBank Assembly accession'],\n",
    "                              login=login, edit_summary=\"update GenBank Assembly accession\")\n",
    "    else:\n",
    "        # if the item doesn't exist, log it and skip\n",
    "        msg = wdi_helpers.format_msg(genbank_id, PROPS['GenBank Assembly accession'], \"\",\n",
    "                               \"No organism found with taxid {}\".format(taxid))\n",
    "        wdi_core.WDItemEngine.log(\"WARNING\", msg)"
   ]
  },
  {
   "cell_type": "markdown",
   "metadata": {},
   "source": [
    "### Run!"
   ]
  },
  {
   "cell_type": "code",
   "execution_count": 12,
   "metadata": {
    "scrolled": true
   },
   "outputs": [
    {
     "name": "stderr",
     "output_type": "stream",
     "text": [
      "100%|██████████| 4958/4958 [00:00<00:00, 1207417.94it/s]\n"
     ]
    }
   ],
   "source": [
    "# this will take a while to run (5000 * 1sec/item == 1.5 hrs)\n",
    "for taxid, genbank_id in tqdm(d.items()):\n",
    "    #run_one(taxid, genbank_id)\n",
    "    pass"
   ]
  },
  {
   "cell_type": "markdown",
   "metadata": {},
   "source": [
    "## The meat of the bot V2 (fast run mode)"
   ]
  },
  {
   "cell_type": "code",
   "execution_count": 13,
   "metadata": {},
   "outputs": [],
   "source": [
    "# instead of using wdi and search_only to retrieve the item, we'll do it manually, all at once\n",
    "tax_qid_map = wdi_helpers.id_mapper(PROPS['NCBI Taxonomy ID'], return_as_set=True)\n",
    "# filter out those where the same taxid is used across more than one item\n",
    "tax_qid_map = {k:list(v)[0] for k,v in tax_qid_map.items() if len(v)==1}"
   ]
  },
  {
   "cell_type": "code",
   "execution_count": 14,
   "metadata": {},
   "outputs": [],
   "source": [
    "def run_one(taxid, genbank_id):\n",
    "    # get the QID\n",
    "    taxid = str(taxid)\n",
    "    if taxid not in tax_qid_map:\n",
    "        msg = wdi_helpers.format_msg(genbank_id, PROPS['GenBank Assembly accession'], \"\",\n",
    "                               \"organism with taxid {} not found or skipped\".format(taxid))\n",
    "        wdi_core.WDItemEngine.log(\"WARNING\", msg)\n",
    "        return None\n",
    "    qid = tax_qid_map[taxid]\n",
    "    reference = create_reference(genbank_id)\n",
    "    genbank_statement = wdi_core.WDExternalID(genbank_id, PROPS['GenBank Assembly accession'], references=[reference])\n",
    "    \n",
    "    # create the item object, specifying the qid\n",
    "    item = wdi_core.WDItemEngine(data=[genbank_statement], wd_item_id=qid, fast_run=True, \n",
    "                                 fast_run_base_filter={PROPS['GenBank Assembly accession']: ''})\n",
    "\n",
    "    wdi_helpers.try_write(item, record_id=genbank_id, record_prop=PROPS['GenBank Assembly accession'],\n",
    "                          login=login, edit_summary=\"update GenBank Assembly accession\")"
   ]
  },
  {
   "cell_type": "code",
   "execution_count": null,
   "metadata": {},
   "outputs": [],
   "source": [
    "# if no write is required, this will finish in a minute\n",
    "for taxid, genbank_id in tqdm(d.items()):\n",
    "    run_one(taxid, genbank_id)"
   ]
  },
  {
   "cell_type": "code",
   "execution_count": 19,
   "metadata": {},
   "outputs": [
    {
     "data": {
      "text/plain": [
       "['WARNING;10/13/2017 13:31:01;GCA_000567905.1;P4333;;organism with taxid 1249663 not found or skipped;None',\n",
       " 'WARNING;10/13/2017 13:31:01;GCA_000959605.1;P4333;;organism with taxid 1249664 not found or skipped;None',\n",
       " 'WARNING;10/13/2017 13:31:01;GCA_000765375.1;P4333;;organism with taxid 1249665 not found or skipped;None',\n",
       " 'WARNING;10/13/2017 13:31:01;GCA_001277235.1;P4333;;organism with taxid 1159554 not found or skipped;None',\n",
       " 'WARNING;10/13/2017 13:31:01;GCA_000706745.1;P4333;;organism with taxid 1249667 not found or skipped;None',\n",
       " 'WARNING;10/13/2017 13:31:01;GCA_000959245.1;P4333;;organism with taxid 1249668 not found or skipped;None',\n",
       " 'INFO;10/13/2017 13:31:02;GCA_000007765.2;P4333;Q21064832;UPDATE;None',\n",
       " 'WARNING;10/13/2017 13:31:02;GCA_002151545.1;P4333;;organism with taxid 1986952 not found or skipped;None',\n",
       " 'WARNING;10/13/2017 13:31:02;GCA_000248435.1;P4333;;organism with taxid 1001534 not found or skipped;None',\n",
       " '']"
      ]
     },
     "execution_count": 19,
     "metadata": {},
     "output_type": "execute_result"
    }
   ],
   "source": [
    "# Check out the log\n",
    "open(\"logs/WD_bot_run-20171013_13:20.log\").read().split(\"\\n\")[-10:]"
   ]
  },
  {
   "cell_type": "markdown",
   "metadata": {},
   "source": [
    "### What about if want to update the retrieved date?\n",
    "In version 2, the reference is never checked. Only the value. We can modify the bot so that the reference is also checked and updated if the retrieved date is older than X days (e.g. 180 days)"
   ]
  },
  {
   "cell_type": "code",
   "execution_count": 20,
   "metadata": {},
   "outputs": [],
   "source": [
    "from wikidataintegrator import ref_handlers\n",
    "from functools import partial\n",
    "\n",
    "update_retrieved_if_new = partial(ref_handlers.update_retrieved_if_new, days=180)\n",
    "\n",
    "def run_one(taxid, genbank_id):\n",
    "    # get the QID\n",
    "    taxid = str(taxid)\n",
    "    if taxid not in tax_qid_map:\n",
    "        msg = wdi_helpers.format_msg(genbank_id, PROPS['GenBank Assembly accession'], \"\",\n",
    "                               \"organism with taxid {} not found or skipped\".format(taxid))\n",
    "        wdi_core.WDItemEngine.log(\"WARNING\", msg)\n",
    "        return None\n",
    "    qid = tax_qid_map[taxid]\n",
    "    reference = create_reference(genbank_id)\n",
    "    genbank_statement = wdi_core.WDExternalID(genbank_id, PROPS['GenBank Assembly accession'], references=[reference])\n",
    "    \n",
    "    # create the item object, specifying the qid\n",
    "    item = wdi_core.WDItemEngine(data=[genbank_statement], wd_item_id=qid, fast_run=True, \n",
    "                                 fast_run_base_filter={PROPS['GenBank Assembly accession']: ''},\n",
    "                                 global_ref_mode='CUSTOM', fast_run_use_refs=True,\n",
    "                                 ref_handler=update_retrieved_if_new)\n",
    "\n",
    "    wdi_helpers.try_write(item, record_id=genbank_id, record_prop=PROPS['GenBank Assembly accession'],\n",
    "                          login=login, edit_summary=\"update GenBank Assembly accession\")\n"
   ]
  },
  {
   "cell_type": "code",
   "execution_count": null,
   "metadata": {},
   "outputs": [],
   "source": [
    "for taxid, genbank_id in tqdm(d.items()):\n",
    "    run_one(taxid, genbank_id)"
   ]
  },
  {
   "cell_type": "code",
   "execution_count": null,
   "metadata": {},
   "outputs": [],
   "source": []
  }
 ],
 "metadata": {
  "kernelspec": {
   "display_name": "wikidatacon_wdi_demo",
   "language": "python",
   "name": "wikidatacon_wdi_demo"
  },
  "language_info": {
   "codemirror_mode": {
    "name": "ipython",
    "version": 3
   },
   "file_extension": ".py",
   "mimetype": "text/x-python",
   "name": "python",
   "nbconvert_exporter": "python",
   "pygments_lexer": "ipython3",
   "version": "3.5.2"
  }
 },
 "nbformat": 4,
 "nbformat_minor": 2
}
